{
 "cells": [
  {
   "cell_type": "markdown",
   "metadata": {},
   "source": [
    "<H1>FM EC-module tests</H1>"
   ]
  },
  {
   "cell_type": "markdown",
   "metadata": {},
   "source": [
    "<H2>PolyTim interpolation (boundaries)</H2>"
   ]
  },
  {
   "cell_type": "code",
   "execution_count": 1,
   "metadata": {
    "collapsed": false
   },
   "outputs": [],
   "source": [
    "import numpy as np\n",
    "import matplotlib.pyplot as plt\n",
    "import sys, os"
   ]
  },
  {
   "cell_type": "code",
   "execution_count": 2,
   "metadata": {
    "collapsed": false
   },
   "outputs": [],
   "source": [
    "# Some stuff needed in the calculation\n",
    "\n",
    "# Intersection between two line segments, \n",
    "# expressed as a fraction of the first segment (p1->p2)\n",
    "def crs(p1,p2,p3,p4):\n",
    "    # intersection lambda of lines p1->p2 and p3->p4\n",
    "    # in terms of vector p1->p2\n",
    "    l = ((p3[0]-p1[0])*(p3[1]-p4[1])-(p3[1]-p1[1])*(p3[0]-p4[0]))                \\\n",
    "      / ((p2[0]-p1[0])*(p3[1]-p4[1])-(p2[1]-p1[1])*(p3[0]-p4[0]))\n",
    "    return(np.array([l,1.-l]))\n",
    "\n",
    "def time_interpolation(time_asked, tslist):\n",
    "    results = []\n",
    "    for ts in tslist:\n",
    "        if ((time_asked<ts[0,0]) or (time_asked>ts[-1,0])):\n",
    "            results.append(np.NaN)\n",
    "        else:\n",
    "            for itime in range(ts.shape[0]-1):\n",
    "                if ((time_asked - ts[itime,0])*(time_asked - ts[itime+1,0])<0):\n",
    "                    break\n",
    "            t1 = ts[itime,0]\n",
    "            t2 = ts[itime+1,0]\n",
    "            wt = (ts[itime+1,0] - time_asked)/(ts[itime+1,0] - ts[itime,0])\n",
    "            val = wt*ts[itime,1] + (1.-wt)* ts[itime+1,1]\n",
    "            results.append(val)\n",
    "    return(results)\n"
   ]
  },
  {
   "cell_type": "markdown",
   "metadata": {},
   "source": [
    "<H2>Test f01-c001</H2>"
   ]
  },
  {
   "cell_type": "markdown",
   "metadata": {},
   "source": [
    "<h3>Calculation</h3>"
   ]
  },
  {
   "cell_type": "markdown",
   "metadata": {},
   "source": [
    "Input: Two time series (old style) for two support points"
   ]
  },
  {
   "cell_type": "code",
   "execution_count": 3,
   "metadata": {
    "collapsed": false,
    "scrolled": true
   },
   "outputs": [],
   "source": [
    "tim01 = np.loadtxt('tfl_01_0001.tim')\n",
    "tim02 = np.loadtxt('tfl_01_0002.tim')\n",
    "bndpair=[[0.0,0.0],[0.0,1.5]]                                # boundary cell face, pli-segment"
   ]
  },
  {
   "cell_type": "code",
   "execution_count": 4,
   "metadata": {
    "collapsed": false
   },
   "outputs": [],
   "source": [
    "# Time is given in minutes in these .tim files, so convert to seconds\n",
    "to_seconds = 60.0\n",
    "tim01[:,0] = tim01[:,0]*to_seconds\n",
    "tim02[:,0] = tim02[:,0]*to_seconds"
   ]
  },
  {
   "cell_type": "markdown",
   "metadata": {},
   "source": [
    "Copied from the test configuration file:"
   ]
  },
  {
   "cell_type": "code",
   "execution_count": 5,
   "metadata": {
    "collapsed": true
   },
   "outputs": [],
   "source": [
    "Times                = 10.0, 20.0, 30.0, 40.0                # times for requesting data from EC-module\n",
    "LocationsX           =  0.75,   0.75,   0.75                 # location X-coordinate   \n",
    "LocationsY           =  0.667,  1.000,  1.333                # location Y-coordinate\n",
    "LocationsX2          = -1.000, -1.000, -1.000                # location X-coordinate   \n",
    "LocationsY2          =  0.667,  1.000,  1.333                # location Y-coordinate\n",
    "npt = len(LocationsX)"
   ]
  },
  {
   "cell_type": "code",
   "execution_count": null,
   "metadata": {
    "collapsed": false
   },
   "outputs": [],
   "source": []
  },
  {
   "cell_type": "code",
   "execution_count": 10,
   "metadata": {
    "collapsed": false
   },
   "outputs": [
    {
     "data": {
      "image/png": "[encoded data removed]",
      "text/plain": [
       "<matplotlib.figure.Figure at 0x9d40668>"
      ]
     },
     "metadata": {},
     "output_type": "display_data"
    }
   ],
   "source": [
    "# definition of a pair of support points\n",
    "xbnd = np.array([bndpair[0][0],bndpair[1][0]])\n",
    "ybnd = np.array([bndpair[0][1],bndpair[1][1]])\n",
    "fig = plt.figure();\n",
    "plt.plot(xbnd, ybnd, \"ro\",xbnd, ybnd, \"r-\"); \n",
    "\n",
    "# definition of flow links\n",
    "ws = []\n",
    "for ipt in range(npt):\n",
    "    flowlink=[[LocationsX[ipt],LocationsY[ipt]], [LocationsX2[ipt],LocationsY2[ipt]]]    \n",
    "\n",
    "    # determine spatial interpolation weight\n",
    "    ws.append(crs(np.array(bndpair[0]),np.array(bndpair[1]),np.array(flowlink[0]),np.array(flowlink[1]))) \n",
    "    \n",
    "    # plot \n",
    "    xflow = np.array([flowlink[0][0],flowlink[1][0]])\n",
    "    yflow = np.array([flowlink[0][1],flowlink[1][1]])\n",
    "    plt.plot(xflow, yflow, \"bo\",xflow, yflow, \"b-\"); \n",
    "\n",
    "# fig.suptitle(\"Weigth factor at intersection : %f\"%(ws[0]))\n",
    "plt.show()\n"
   ]
  },
  {
   "cell_type": "code",
   "execution_count": 9,
   "metadata": {
    "collapsed": false,
    "scrolled": true
   },
   "outputs": [
    {
     "data": {
      "text/plain": [
       "[array([ 0.44466667,  0.55533333]),\n",
       " array([ 0.66666667,  0.33333333]),\n",
       " array([ 0.88866667,  0.11133333])]"
      ]
     },
     "execution_count": 9,
     "metadata": {},
     "output_type": "execute_result"
    }
   ],
   "source": [
    "ws     # Show the derived weight functions"
   ]
  },
  {
   "cell_type": "code",
   "execution_count": 33,
   "metadata": {
    "collapsed": false
   },
   "outputs": [
    {
     "name": "stdout",
     "output_type": "stream",
     "text": [
      "10.0 [0.00016666666666666718, 0.00016666666666666718, 0.00016666666666666718]\n",
      "20.0 [0.00033333333333333327, 0.00033333333333333327, 0.00033333333333333327]\n",
      "30.0 [0.00050000000000000044, 0.00050000000000000044, 0.00050000000000000044]\n",
      "40.0 [0.00066666666666666654, 0.00066666666666666654, 0.00066666666666666654]\n"
     ]
    }
   ],
   "source": [
    "for time_asked in Times:\n",
    "    interp = []\n",
    "    values_at_support_points = time_interpolation(time_asked,[tim01,tim02])\n",
    "    for iw in range(len(ws)):\n",
    "        interpval = np.dot(ws[iw],values_at_support_points)\n",
    "        interp.append(interpval)\n",
    "    print time_asked, interp"
   ]
  },
  {
   "cell_type": "markdown",
   "metadata": {},
   "source": [
    "<h3>Test results</h3>"
   ]
  },
  {
   "cell_type": "code",
   "execution_count": 16,
   "metadata": {
    "collapsed": false,
    "scrolled": true
   },
   "outputs": [],
   "source": [
    "testdir = './'\n",
    "outfile = 'test01.out'\n",
    "tstfile = 'test01.ref'"
   ]
  },
  {
   "cell_type": "code",
   "execution_count": 31,
   "metadata": {
    "collapsed": false
   },
   "outputs": [],
   "source": [
    "rawrefdata = np.loadtxt(os.path.join(testdir,reffile))\n",
    "rawtstdata = np.loadtxt(os.path.join(testdir,tstfile))"
   ]
  },
  {
   "cell_type": "code",
   "execution_count": 34,
   "metadata": {
    "collapsed": false
   },
   "outputs": [
    {
     "data": {
      "text/plain": [
       "array([[  1.00000000e+00,   1.66666667e-05,   1.66666667e-05],\n",
       "       [  2.00000000e+00,   3.33333333e-05,   3.33333333e-05],\n",
       "       [  3.00000000e+00,   6.00000000e-05,   5.00000000e-05],\n",
       "       [  4.00000000e+00,   6.66666667e-05,   6.66666667e-05]])"
      ]
     },
     "execution_count": 34,
     "metadata": {},
     "output_type": "execute_result"
    }
   ],
   "source": [
    "rawrefdata"
   ]
  },
  {
   "cell_type": "markdown",
   "metadata": {},
   "source": [
    "Retrieve reference and test data:"
   ]
  },
  {
   "cell_type": "code",
   "execution_count": 38,
   "metadata": {
    "collapsed": false
   },
   "outputs": [],
   "source": [
    "reftimes = rawrefdata[:,0]\n",
    "tsttimes = rawtstdata[:,0]\n",
    "refvalues = rawrefdata[:,1:]\n",
    "tstvalues = rawtstdata[:,1:]"
   ]
  },
  {
   "cell_type": "code",
   "execution_count": 39,
   "metadata": {
    "collapsed": false
   },
   "outputs": [
    {
     "data": {
      "text/plain": [
       "array([[  1.66666667e-05,   1.66666667e-05],\n",
       "       [  3.33333333e-05,   3.33333333e-05],\n",
       "       [  6.00000000e-05,   5.00000000e-05],\n",
       "       [  6.66666667e-05,   6.66666667e-05]])"
      ]
     },
     "execution_count": 39,
     "metadata": {},
     "output_type": "execute_result"
    }
   ],
   "source": [
    "tstvalues"
   ]
  },
  {
   "cell_type": "code",
   "execution_count": 21,
   "metadata": {
    "collapsed": false
   },
   "outputs": [],
   "source": [
    "tim01[:,0] = tim01[:,0]*f_time_seconds\n",
    "tim02[:,0] = tim02[:,0]*f_time_seconds"
   ]
  },
  {
   "cell_type": "code",
   "execution_count": 52,
   "metadata": {
    "collapsed": false
   },
   "outputs": [
    {
     "data": {
      "text/plain": [
       "array([[  0.00000000e+00,   0.00000000e+00],\n",
       "       [  3.60000000e+04,   1.00000000e-02],\n",
       "       [  7.20000000e+04,   0.00000000e+00],\n",
       "       [  1.08000000e+05,  -1.00000000e-02],\n",
       "       [  1.44000000e+05,   0.00000000e+00],\n",
       "       [  1.80000000e+05,   1.00000000e-02],\n",
       "       [  2.16000000e+05,   0.00000000e+00],\n",
       "       [  2.52000000e+05,  -1.00000000e-02],\n",
       "       [  2.88000000e+05,   0.00000000e+00],\n",
       "       [  3.24000000e+05,   1.00000000e-02],\n",
       "       [  3.60000000e+05,   0.00000000e+00],\n",
       "       [  3.96000000e+05,  -1.00000000e-02],\n",
       "       [  4.32000000e+05,   0.00000000e+00]])"
      ]
     },
     "execution_count": 52,
     "metadata": {},
     "output_type": "execute_result"
    }
   ],
   "source": [
    "tim01"
   ]
  },
  {
   "cell_type": "markdown",
   "metadata": {},
   "source": [
    "<b>Interpolate each timeseries at the requested time ...</b>"
   ]
  },
  {
   "cell_type": "code",
   "execution_count": 77,
   "metadata": {
    "collapsed": false
   },
   "outputs": [],
   "source": []
  },
  {
   "cell_type": "code",
   "execution_count": 78,
   "metadata": {
    "collapsed": false,
    "scrolled": true
   },
   "outputs": [
    {
     "name": "stdout",
     "output_type": "stream",
     "text": [
      "[0.0044444444444444444, 0.0094949494949495023]\n"
     ]
    }
   ],
   "source": [
    "print values_at_support_points"
   ]
  },
  {
   "cell_type": "code",
   "execution_count": 93,
   "metadata": {
    "collapsed": false
   },
   "outputs": [
    {
     "data": {
      "text/plain": [
       "0.0"
      ]
     },
     "execution_count": 93,
     "metadata": {},
     "output_type": "execute_result"
    }
   ],
   "source": [
    "bndpair[0][0]"
   ]
  },
  {
   "cell_type": "code",
   "execution_count": 39,
   "metadata": {
    "collapsed": false
   },
   "outputs": [],
   "source": []
  },
  {
   "cell_type": "code",
   "execution_count": null,
   "metadata": {
    "collapsed": true
   },
   "outputs": [],
   "source": []
  }
 ],
 "metadata": {
  "kernelspec": {
   "display_name": "Python 2",
   "language": "python",
   "name": "python2"
  },
  "language_info": {
   "codemirror_mode": {
    "name": "ipython",
    "version": 2
   },
   "file_extension": ".py",
   "mimetype": "text/x-python",
   "name": "python",
   "nbconvert_exporter": "python",
   "pygments_lexer": "ipython2",
   "version": "2.7.13"
  }
 },
 "nbformat": 4,
 "nbformat_minor": 2
}
